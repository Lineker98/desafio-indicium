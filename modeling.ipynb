{
 "cells": [
  {
   "cell_type": "code",
   "execution_count": 59,
   "metadata": {},
   "outputs": [],
   "source": [
    "import numpy as np\n",
    "import pandas as pd\n",
    "\n",
    "from sklearn.pipeline import Pipeline\n",
    "from sklearn.compose import ColumnTransformer\n",
    "from sklearn.preprocessing import LabelEncoder, MinMaxScaler, FunctionTransformer\n",
    "from sklearn.model_selection import KFold\n",
    "from sklearn.metrics import precision_recall_fscore_support\n",
    "from imblearn.over_sampling import SMOTE\n",
    "\n",
    "from sklearn.linear_model import LogisticRegression\n",
    "from sklearn.svm import SVC\n",
    "\n",
    "from sklearn.ensemble import RandomForestClassifier"
   ]
  },
  {
   "attachments": {},
   "cell_type": "markdown",
   "metadata": {},
   "source": [
    "## Modelagem"
   ]
  },
  {
   "attachments": {},
   "cell_type": "markdown",
   "metadata": {},
   "source": [
    "Para construção da máquina preditiva, é de total importância que o modelo seja alimentado com dados de qualidade. Dada a análise exploratória, devemos contruir um modelo capaz de predizer com maior acertividade do que um simples método de sempre retornar o valor de `No Failure`, pois devido ao desbalanceamento, esses simples chute terá uma alta pontuanção, a depender da métrica utilizada.\n",
    "\n",
    "Importante ressaltar que, dada a descrição do dicionário dos dados para \"machine failure\", poderíamos construir uma estrutura de código baseada em condicões, sem qualquer modelo matemático que também poderia obter uma ótima performance.\n",
    "\n",
    "Para a base de dados em questão, temos um problema de classificação. E, ainda levando em consideração a eda, inicialmente, devido a simplicidade da relação dos dados, e as poucas quantidades de features e amostras, podemos primeiramente avaliar a performance de modelos lineares, como uma regressão logística ou SVM, e posteriormente, verificar como modelos baseados em árvore se comportam, como Random Forest ou Ensembles."
   ]
  },
  {
   "attachments": {},
   "cell_type": "markdown",
   "metadata": {},
   "source": [
    "### Pre-processamento dos Dados"
   ]
  },
  {
   "cell_type": "code",
   "execution_count": 40,
   "metadata": {},
   "outputs": [
    {
     "data": {
      "text/html": [
       "<div>\n",
       "<style scoped>\n",
       "    .dataframe tbody tr th:only-of-type {\n",
       "        vertical-align: middle;\n",
       "    }\n",
       "\n",
       "    .dataframe tbody tr th {\n",
       "        vertical-align: top;\n",
       "    }\n",
       "\n",
       "    .dataframe thead th {\n",
       "        text-align: right;\n",
       "    }\n",
       "</style>\n",
       "<table border=\"1\" class=\"dataframe\">\n",
       "  <thead>\n",
       "    <tr style=\"text-align: right;\">\n",
       "      <th></th>\n",
       "      <th>udi</th>\n",
       "      <th>product_id</th>\n",
       "      <th>type</th>\n",
       "      <th>air_temperature_k</th>\n",
       "      <th>process_temperature_k</th>\n",
       "      <th>rotational_speed_rpm</th>\n",
       "      <th>torque_nm</th>\n",
       "      <th>tool_wear_min</th>\n",
       "      <th>failure_type</th>\n",
       "    </tr>\n",
       "  </thead>\n",
       "  <tbody>\n",
       "    <tr>\n",
       "      <th>0</th>\n",
       "      <td>1</td>\n",
       "      <td>M14860</td>\n",
       "      <td>M</td>\n",
       "      <td>298.1</td>\n",
       "      <td>308.6</td>\n",
       "      <td>1551</td>\n",
       "      <td>42.8</td>\n",
       "      <td>0</td>\n",
       "      <td>No Failure</td>\n",
       "    </tr>\n",
       "    <tr>\n",
       "      <th>1</th>\n",
       "      <td>2</td>\n",
       "      <td>L47181</td>\n",
       "      <td>L</td>\n",
       "      <td>298.2</td>\n",
       "      <td>308.7</td>\n",
       "      <td>1408</td>\n",
       "      <td>46.3</td>\n",
       "      <td>3</td>\n",
       "      <td>No Failure</td>\n",
       "    </tr>\n",
       "    <tr>\n",
       "      <th>2</th>\n",
       "      <td>5</td>\n",
       "      <td>L47184</td>\n",
       "      <td>L</td>\n",
       "      <td>298.2</td>\n",
       "      <td>308.7</td>\n",
       "      <td>1408</td>\n",
       "      <td>40.0</td>\n",
       "      <td>9</td>\n",
       "      <td>No Failure</td>\n",
       "    </tr>\n",
       "    <tr>\n",
       "      <th>3</th>\n",
       "      <td>6</td>\n",
       "      <td>M14865</td>\n",
       "      <td>M</td>\n",
       "      <td>298.1</td>\n",
       "      <td>308.6</td>\n",
       "      <td>1425</td>\n",
       "      <td>41.9</td>\n",
       "      <td>11</td>\n",
       "      <td>No Failure</td>\n",
       "    </tr>\n",
       "    <tr>\n",
       "      <th>4</th>\n",
       "      <td>7</td>\n",
       "      <td>L47186</td>\n",
       "      <td>L</td>\n",
       "      <td>298.1</td>\n",
       "      <td>308.6</td>\n",
       "      <td>1558</td>\n",
       "      <td>42.4</td>\n",
       "      <td>14</td>\n",
       "      <td>No Failure</td>\n",
       "    </tr>\n",
       "  </tbody>\n",
       "</table>\n",
       "</div>"
      ],
      "text/plain": [
       "   udi product_id type  air_temperature_k  process_temperature_k  \\\n",
       "0    1     M14860    M              298.1                  308.6   \n",
       "1    2     L47181    L              298.2                  308.7   \n",
       "2    5     L47184    L              298.2                  308.7   \n",
       "3    6     M14865    M              298.1                  308.6   \n",
       "4    7     L47186    L              298.1                  308.6   \n",
       "\n",
       "   rotational_speed_rpm  torque_nm  tool_wear_min failure_type  \n",
       "0                  1551       42.8              0   No Failure  \n",
       "1                  1408       46.3              3   No Failure  \n",
       "2                  1408       40.0              9   No Failure  \n",
       "3                  1425       41.9             11   No Failure  \n",
       "4                  1558       42.4             14   No Failure  "
      ]
     },
     "execution_count": 40,
     "metadata": {},
     "output_type": "execute_result"
    }
   ],
   "source": [
    "df = pd.read_csv(\"desafio_manutencao_preditiva_treino.csv\")\n",
    "df.head()"
   ]
  },
  {
   "cell_type": "code",
   "execution_count": 52,
   "metadata": {},
   "outputs": [
    {
     "data": {
      "text/plain": [
       "((6667, 8), (6667, 1))"
      ]
     },
     "execution_count": 52,
     "metadata": {},
     "output_type": "execute_result"
    }
   ],
   "source": [
    "x = df.drop('failure_type', axis=1)\n",
    "y = df[['failure_type']]\n",
    "\n",
    "x.shape, y.shape"
   ]
  },
  {
   "attachments": {},
   "cell_type": "markdown",
   "metadata": {},
   "source": [
    "#### Outliers"
   ]
  },
  {
   "attachments": {},
   "cell_type": "markdown",
   "metadata": {},
   "source": [
    "Com as informações obtidas das análises gráficas, vimos que as as variáveis `rotational_speed_rp` e `torque_nm` possuem alguns dados que extrapolam os valores máximos dos boxplots, contudo, como ambas as variáveis são normalmente distribuídas, podemos usar o método de z-score para tratar possíveis outliers. Onde iremos medir quão longe nossos dados estão da média, e para cada dado que ultrapassar um determinado threshold, iremos removê-lo."
   ]
  },
  {
   "cell_type": "code",
   "execution_count": 28,
   "metadata": {},
   "outputs": [],
   "source": [
    "def remove_outliers(df, column_name, threshold=3):\n",
    "    mean = df[column_name].mean()\n",
    "    std = df[column_name].std()\n",
    "    z_scores = (df[column_name] - mean) / std\n",
    "    df = df[(np.abs(z_scores) < threshold)]\n",
    "    return df"
   ]
  },
  {
   "attachments": {},
   "cell_type": "markdown",
   "metadata": {},
   "source": [
    "#### Pipeline to encoding and scaling"
   ]
  },
  {
   "attachments": {},
   "cell_type": "markdown",
   "metadata": {},
   "source": [
    "A etapa de codificação será aplicada somente a variávels categórica `type`, pois as variáveis de identificação dos produtos serão dropadas posteriormente, não sendo interessantes para o problema atual, além de que, nossa variável `'type`, possui um carater ordinal implícito. Para a etapa de escalonamento das variáveis, usaremos o método min-max normalization, já que nossa base total não possui uma distribuição normal, e também serão retirados os outliers."
   ]
  },
  {
   "cell_type": "code",
   "execution_count": 33,
   "metadata": {},
   "outputs": [],
   "source": [
    "categorical_transforms = Pipeline(\n",
    "    ('label_encoder', LabelEncoder())\n",
    ")\n",
    "numerical_transforms = Pipeline([\n",
    "    ('scaler', MinMaxScaler())\n",
    "])"
   ]
  },
  {
   "cell_type": "code",
   "execution_count": 50,
   "metadata": {},
   "outputs": [
    {
     "name": "stdout",
     "output_type": "stream",
     "text": [
      "Atributos categóricos: ['type']\n",
      "Atributos numéricos: ['air_temperature_k', 'process_temperature_k', 'rotational_speed_rpm', 'torque_nm', 'tool_wear_min']\n"
     ]
    }
   ],
   "source": [
    "categorical_columns = x.select_dtypes(include=['object']).columns.values.tolist()\n",
    "numerical_columns = x.select_dtypes(exclude=['object']).columns.values.tolist()\n",
    "print(f\"Atributos categóricos: {categorical_columns}\")\n",
    "print(f\"Atributos numéricos: {numerical_columns}\")"
   ]
  },
  {
   "attachments": {},
   "cell_type": "markdown",
   "metadata": {},
   "source": [
    "#### Seleção das variáveis"
   ]
  },
  {
   "attachments": {},
   "cell_type": "markdown",
   "metadata": {},
   "source": [
    "1 - Vamos eliminar as variáveis que não fornecem informações relevantes para o problema, como as variáveis de identificação."
   ]
  },
  {
   "cell_type": "code",
   "execution_count": 43,
   "metadata": {},
   "outputs": [
    {
     "data": {
      "text/html": [
       "<div>\n",
       "<style scoped>\n",
       "    .dataframe tbody tr th:only-of-type {\n",
       "        vertical-align: middle;\n",
       "    }\n",
       "\n",
       "    .dataframe tbody tr th {\n",
       "        vertical-align: top;\n",
       "    }\n",
       "\n",
       "    .dataframe thead th {\n",
       "        text-align: right;\n",
       "    }\n",
       "</style>\n",
       "<table border=\"1\" class=\"dataframe\">\n",
       "  <thead>\n",
       "    <tr style=\"text-align: right;\">\n",
       "      <th></th>\n",
       "      <th>type</th>\n",
       "      <th>air_temperature_k</th>\n",
       "      <th>process_temperature_k</th>\n",
       "      <th>rotational_speed_rpm</th>\n",
       "      <th>torque_nm</th>\n",
       "      <th>tool_wear_min</th>\n",
       "    </tr>\n",
       "  </thead>\n",
       "  <tbody>\n",
       "    <tr>\n",
       "      <th>0</th>\n",
       "      <td>M</td>\n",
       "      <td>298.1</td>\n",
       "      <td>308.6</td>\n",
       "      <td>1551</td>\n",
       "      <td>42.8</td>\n",
       "      <td>0</td>\n",
       "    </tr>\n",
       "    <tr>\n",
       "      <th>1</th>\n",
       "      <td>L</td>\n",
       "      <td>298.2</td>\n",
       "      <td>308.7</td>\n",
       "      <td>1408</td>\n",
       "      <td>46.3</td>\n",
       "      <td>3</td>\n",
       "    </tr>\n",
       "    <tr>\n",
       "      <th>2</th>\n",
       "      <td>L</td>\n",
       "      <td>298.2</td>\n",
       "      <td>308.7</td>\n",
       "      <td>1408</td>\n",
       "      <td>40.0</td>\n",
       "      <td>9</td>\n",
       "    </tr>\n",
       "    <tr>\n",
       "      <th>3</th>\n",
       "      <td>M</td>\n",
       "      <td>298.1</td>\n",
       "      <td>308.6</td>\n",
       "      <td>1425</td>\n",
       "      <td>41.9</td>\n",
       "      <td>11</td>\n",
       "    </tr>\n",
       "    <tr>\n",
       "      <th>4</th>\n",
       "      <td>L</td>\n",
       "      <td>298.1</td>\n",
       "      <td>308.6</td>\n",
       "      <td>1558</td>\n",
       "      <td>42.4</td>\n",
       "      <td>14</td>\n",
       "    </tr>\n",
       "  </tbody>\n",
       "</table>\n",
       "</div>"
      ],
      "text/plain": [
       "  type  air_temperature_k  process_temperature_k  rotational_speed_rpm  \\\n",
       "0    M              298.1                  308.6                  1551   \n",
       "1    L              298.2                  308.7                  1408   \n",
       "2    L              298.2                  308.7                  1408   \n",
       "3    M              298.1                  308.6                  1425   \n",
       "4    L              298.1                  308.6                  1558   \n",
       "\n",
       "   torque_nm  tool_wear_min  \n",
       "0       42.8              0  \n",
       "1       46.3              3  \n",
       "2       40.0              9  \n",
       "3       41.9             11  \n",
       "4       42.4             14  "
      ]
     },
     "execution_count": 43,
     "metadata": {},
     "output_type": "execute_result"
    }
   ],
   "source": [
    "x = x.drop(columns=['udi', 'product_id'])\n",
    "x.head()"
   ]
  },
  {
   "attachments": {},
   "cell_type": "markdown",
   "metadata": {},
   "source": [
    "2 - Aqui, usaremos algumas informações do dicionário de dados para produzir novos atributos para nossa base de dados."
   ]
  },
  {
   "cell_type": "code",
   "execution_count": 44,
   "metadata": {},
   "outputs": [
    {
     "data": {
      "text/html": [
       "<div>\n",
       "<style scoped>\n",
       "    .dataframe tbody tr th:only-of-type {\n",
       "        vertical-align: middle;\n",
       "    }\n",
       "\n",
       "    .dataframe tbody tr th {\n",
       "        vertical-align: top;\n",
       "    }\n",
       "\n",
       "    .dataframe thead th {\n",
       "        text-align: right;\n",
       "    }\n",
       "</style>\n",
       "<table border=\"1\" class=\"dataframe\">\n",
       "  <thead>\n",
       "    <tr style=\"text-align: right;\">\n",
       "      <th></th>\n",
       "      <th>type</th>\n",
       "      <th>air_temperature_k</th>\n",
       "      <th>process_temperature_k</th>\n",
       "      <th>rotational_speed_rpm</th>\n",
       "      <th>torque_nm</th>\n",
       "      <th>tool_wear_min</th>\n",
       "      <th>too_hot</th>\n",
       "      <th>too_power</th>\n",
       "      <th>too_used</th>\n",
       "    </tr>\n",
       "  </thead>\n",
       "  <tbody>\n",
       "    <tr>\n",
       "      <th>0</th>\n",
       "      <td>M</td>\n",
       "      <td>298.1</td>\n",
       "      <td>308.6</td>\n",
       "      <td>1551</td>\n",
       "      <td>42.8</td>\n",
       "      <td>0</td>\n",
       "      <td>10.5</td>\n",
       "      <td>6951.590560</td>\n",
       "      <td>0.0</td>\n",
       "    </tr>\n",
       "    <tr>\n",
       "      <th>1</th>\n",
       "      <td>L</td>\n",
       "      <td>298.2</td>\n",
       "      <td>308.7</td>\n",
       "      <td>1408</td>\n",
       "      <td>46.3</td>\n",
       "      <td>3</td>\n",
       "      <td>10.5</td>\n",
       "      <td>6826.722724</td>\n",
       "      <td>138.9</td>\n",
       "    </tr>\n",
       "    <tr>\n",
       "      <th>2</th>\n",
       "      <td>L</td>\n",
       "      <td>298.2</td>\n",
       "      <td>308.7</td>\n",
       "      <td>1408</td>\n",
       "      <td>40.0</td>\n",
       "      <td>9</td>\n",
       "      <td>10.5</td>\n",
       "      <td>5897.816608</td>\n",
       "      <td>360.0</td>\n",
       "    </tr>\n",
       "    <tr>\n",
       "      <th>3</th>\n",
       "      <td>M</td>\n",
       "      <td>298.1</td>\n",
       "      <td>308.6</td>\n",
       "      <td>1425</td>\n",
       "      <td>41.9</td>\n",
       "      <td>11</td>\n",
       "      <td>10.5</td>\n",
       "      <td>6252.554779</td>\n",
       "      <td>460.9</td>\n",
       "    </tr>\n",
       "    <tr>\n",
       "      <th>4</th>\n",
       "      <td>L</td>\n",
       "      <td>298.1</td>\n",
       "      <td>308.6</td>\n",
       "      <td>1558</td>\n",
       "      <td>42.4</td>\n",
       "      <td>14</td>\n",
       "      <td>10.5</td>\n",
       "      <td>6917.703247</td>\n",
       "      <td>593.6</td>\n",
       "    </tr>\n",
       "    <tr>\n",
       "      <th>...</th>\n",
       "      <td>...</td>\n",
       "      <td>...</td>\n",
       "      <td>...</td>\n",
       "      <td>...</td>\n",
       "      <td>...</td>\n",
       "      <td>...</td>\n",
       "      <td>...</td>\n",
       "      <td>...</td>\n",
       "      <td>...</td>\n",
       "    </tr>\n",
       "    <tr>\n",
       "      <th>6662</th>\n",
       "      <td>L</td>\n",
       "      <td>298.8</td>\n",
       "      <td>308.3</td>\n",
       "      <td>1634</td>\n",
       "      <td>27.9</td>\n",
       "      <td>12</td>\n",
       "      <td>9.5</td>\n",
       "      <td>4774.027028</td>\n",
       "      <td>334.8</td>\n",
       "    </tr>\n",
       "    <tr>\n",
       "      <th>6663</th>\n",
       "      <td>M</td>\n",
       "      <td>298.8</td>\n",
       "      <td>308.4</td>\n",
       "      <td>1604</td>\n",
       "      <td>29.5</td>\n",
       "      <td>14</td>\n",
       "      <td>9.6</td>\n",
       "      <td>4955.129373</td>\n",
       "      <td>413.0</td>\n",
       "    </tr>\n",
       "    <tr>\n",
       "      <th>6664</th>\n",
       "      <td>H</td>\n",
       "      <td>298.9</td>\n",
       "      <td>308.4</td>\n",
       "      <td>1632</td>\n",
       "      <td>31.8</td>\n",
       "      <td>17</td>\n",
       "      <td>9.5</td>\n",
       "      <td>5434.703963</td>\n",
       "      <td>540.6</td>\n",
       "    </tr>\n",
       "    <tr>\n",
       "      <th>6665</th>\n",
       "      <td>H</td>\n",
       "      <td>299.0</td>\n",
       "      <td>308.7</td>\n",
       "      <td>1408</td>\n",
       "      <td>48.5</td>\n",
       "      <td>25</td>\n",
       "      <td>9.7</td>\n",
       "      <td>7151.102638</td>\n",
       "      <td>1212.5</td>\n",
       "    </tr>\n",
       "    <tr>\n",
       "      <th>6666</th>\n",
       "      <td>M</td>\n",
       "      <td>299.0</td>\n",
       "      <td>308.7</td>\n",
       "      <td>1500</td>\n",
       "      <td>40.2</td>\n",
       "      <td>30</td>\n",
       "      <td>9.7</td>\n",
       "      <td>6314.601234</td>\n",
       "      <td>1206.0</td>\n",
       "    </tr>\n",
       "  </tbody>\n",
       "</table>\n",
       "<p>6667 rows × 9 columns</p>\n",
       "</div>"
      ],
      "text/plain": [
       "     type  air_temperature_k  process_temperature_k  rotational_speed_rpm  \\\n",
       "0       M              298.1                  308.6                  1551   \n",
       "1       L              298.2                  308.7                  1408   \n",
       "2       L              298.2                  308.7                  1408   \n",
       "3       M              298.1                  308.6                  1425   \n",
       "4       L              298.1                  308.6                  1558   \n",
       "...   ...                ...                    ...                   ...   \n",
       "6662    L              298.8                  308.3                  1634   \n",
       "6663    M              298.8                  308.4                  1604   \n",
       "6664    H              298.9                  308.4                  1632   \n",
       "6665    H              299.0                  308.7                  1408   \n",
       "6666    M              299.0                  308.7                  1500   \n",
       "\n",
       "      torque_nm  tool_wear_min  too_hot    too_power  too_used  \n",
       "0          42.8              0     10.5  6951.590560       0.0  \n",
       "1          46.3              3     10.5  6826.722724     138.9  \n",
       "2          40.0              9     10.5  5897.816608     360.0  \n",
       "3          41.9             11     10.5  6252.554779     460.9  \n",
       "4          42.4             14     10.5  6917.703247     593.6  \n",
       "...         ...            ...      ...          ...       ...  \n",
       "6662       27.9             12      9.5  4774.027028     334.8  \n",
       "6663       29.5             14      9.6  4955.129373     413.0  \n",
       "6664       31.8             17      9.5  5434.703963     540.6  \n",
       "6665       48.5             25      9.7  7151.102638    1212.5  \n",
       "6666       40.2             30      9.7  6314.601234    1206.0  \n",
       "\n",
       "[6667 rows x 9 columns]"
      ]
     },
     "execution_count": 44,
     "metadata": {},
     "output_type": "execute_result"
    }
   ],
   "source": [
    "x.assign(\n",
    "    too_hot=lambda f: f['process_temperature_k'] - f['air_temperature_k'],\n",
    "    too_power=lambda f: ((f['rotational_speed_rpm'] * 2 * np.pi) / 60) * f['torque_nm'],\n",
    "    too_used=lambda f: f['tool_wear_min'] * f['torque_nm']\n",
    "    )"
   ]
  },
  {
   "cell_type": "code",
   "execution_count": 53,
   "metadata": {},
   "outputs": [],
   "source": [
    "# def get_difference_temperature(df):\n",
    "#     df['too_hot'] = df['process_temperature_k'] - df['air_temperature_k']\n",
    "#     return df\n",
    "\n",
    "# def get_power(df):\n",
    "#     df['power'] = ((df['rotational_speed_rpm'] * 2 * np.pi) / 60) * df['torque_nm']\n",
    "#     return df\n",
    "    \n",
    "# def get_usage(df):\n",
    "#     df['usage'] = df['tool_wear_min'] * df['torque_nm']\n",
    "#     return df"
   ]
  },
  {
   "cell_type": "code",
   "execution_count": 46,
   "metadata": {},
   "outputs": [],
   "source": [
    "# feature_engineering = ColumnTransformer([\n",
    "#     ('difference_temperature', FunctionTransformer(get_difference_temperature, validate=False),\n",
    "#      ['process_temperature_k', 'air_temperature_k']),\n",
    "#     ('power', FunctionTransformer(get_power, validate=False), \n",
    "#      ['rotational_speed_rpm', 'torque_nm']),\n",
    "#     ('usage', FunctionTransformer(get_usage, validate=False),\n",
    "#      ['tool_wear_min', 'torque_nm'])\n",
    "# ])"
   ]
  },
  {
   "attachments": {},
   "cell_type": "markdown",
   "metadata": {},
   "source": [
    "#### Label Smoothing"
   ]
  },
  {
   "cell_type": "code",
   "execution_count": 60,
   "metadata": {},
   "outputs": [],
   "source": [
    "def cross_validation(modelo, x, y, oversampling=False):\n",
    "    \n",
    "    kfold = KFold(n_splits=10)\n",
    "    \n",
    "    precision_list, recall_list, f_score_list = []\n",
    "    \n",
    "    for idx, (idx_treino, idx_validacao) in enumerate(kfold.split(x)):\n",
    "        x_split_treino = x.iloc[idx_treino, :]\n",
    "        y_split_treino = y.iloc[idx_treino, :]\n",
    "        \n",
    "        # oversamplig\n",
    "        if oversampling:\n",
    "            sm = SMOTE(random_state=24)\n",
    "            x_split_treino, y_split_treino = sm.fit_resample(x_split_treino, y_split_treino)\n",
    "            \n",
    "        modelo.fit(x_split_treino, y_split_treino.values.flatten())\n",
    "        \n",
    "        x_split_validacao = x.iloc[idx_validacao, :]\n",
    "        y_split_validacao = y.iloc[idx_validacao, :]\n",
    "        \n",
    "        # validação realizada sem o oversampling\n",
    "        predicoes = modelo.predict(x_split_validacao)\n",
    "        \n",
    "        precision, recall, f_score, _ = precision_recall_fscore_support(y_split_validacao, predicoes)\n",
    "        precision_list.append(precision)\n",
    "        recall_list.append(recall)\n",
    "        f_score_list.append(f_score)\n",
    "        \n",
    "    \n",
    "    return precision_list, recall_list, f_score_list\n",
    "        "
   ]
  },
  {
   "cell_type": "code",
   "execution_count": null,
   "metadata": {},
   "outputs": [],
   "source": []
  }
 ],
 "metadata": {
  "kernelspec": {
   "display_name": "indicium",
   "language": "python",
   "name": "python3"
  },
  "language_info": {
   "codemirror_mode": {
    "name": "ipython",
    "version": 3
   },
   "file_extension": ".py",
   "mimetype": "text/x-python",
   "name": "python",
   "nbconvert_exporter": "python",
   "pygments_lexer": "ipython3",
   "version": "3.10.6"
  },
  "orig_nbformat": 4,
  "vscode": {
   "interpreter": {
    "hash": "2e9bff61a486383e2000f38edc5cb3d9d8c91ce709932599ef3040b87d1ca8d5"
   }
  }
 },
 "nbformat": 4,
 "nbformat_minor": 2
}
